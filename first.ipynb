{
 "cells": [
  {
   "cell_type": "code",
   "execution_count": 36,
   "metadata": {},
   "outputs": [],
   "source": [
    "import numpy as np \n",
    "import gym \n",
    "import random \n",
    "import time\n",
    "from IPython.display import clear_output\n"
   ]
  },
  {
   "cell_type": "code",
   "execution_count": 37,
   "metadata": {},
   "outputs": [],
   "source": [
    "env = gym.make(\"FrozenLake-v1\")"
   ]
  },
  {
   "cell_type": "code",
   "execution_count": 38,
   "metadata": {},
   "outputs": [
    {
     "name": "stdout",
     "output_type": "stream",
     "text": [
      "[[0. 0. 0. 0.]\n",
      " [0. 0. 0. 0.]\n",
      " [0. 0. 0. 0.]\n",
      " [0. 0. 0. 0.]\n",
      " [0. 0. 0. 0.]\n",
      " [0. 0. 0. 0.]\n",
      " [0. 0. 0. 0.]\n",
      " [0. 0. 0. 0.]\n",
      " [0. 0. 0. 0.]\n",
      " [0. 0. 0. 0.]\n",
      " [0. 0. 0. 0.]\n",
      " [0. 0. 0. 0.]\n",
      " [0. 0. 0. 0.]\n",
      " [0. 0. 0. 0.]\n",
      " [0. 0. 0. 0.]\n",
      " [0. 0. 0. 0.]]\n"
     ]
    }
   ],
   "source": [
    "action_space_size = env.action_space.n\n",
    "state_space_size = env.observation_space.n\n",
    "q_table = np.zeros((state_space_size,action_space_size))\n",
    "print(q_table)"
   ]
  },
  {
   "cell_type": "code",
   "execution_count": 39,
   "metadata": {},
   "outputs": [],
   "source": [
    "num_episodes = 10000\n",
    "max_steps_per_episode = 100\n",
    "\n",
    "learning_rate = 0.1\n",
    "\n",
    "discount_rate = 0.99\n",
    "\n",
    "exploration_rate = 1\n",
    "max_exploration_rate = 1\n",
    "min_exploration_rate = 0.01\n",
    "exploration_decay_rate = 0.001\n",
    "\n"
   ]
  },
  {
   "cell_type": "code",
   "execution_count": null,
   "metadata": {},
   "outputs": [],
   "source": []
  },
  {
   "cell_type": "code",
   "execution_count": 47,
   "metadata": {},
   "outputs": [
    {
     "name": "stdout",
     "output_type": "stream",
     "text": [
      "******Average reward per thousand episodes ***************\n",
      "\n",
      "1000 :  0.05000000000000004\n",
      "2000 :  0.18200000000000013\n",
      "3000 :  0.3920000000000003\n",
      "4000 :  0.5700000000000004\n",
      "5000 :  0.6260000000000004\n",
      "6000 :  0.6390000000000005\n",
      "7000 :  0.6740000000000005\n",
      "8000 :  0.6940000000000005\n",
      "9000 :  0.6850000000000005\n",
      "10000 :  0.6780000000000005\n",
      "\n",
      "\n",
      " *********Q-table************\n",
      "\n",
      "[[0.55805662 0.53148224 0.52799566 0.525738  ]\n",
      " [0.35913237 0.27616886 0.31883317 0.51922818]\n",
      " [0.44049314 0.4131494  0.41125194 0.49902398]\n",
      " [0.29318298 0.21909535 0.26198986 0.48252709]\n",
      " [0.5828205  0.35504222 0.37729679 0.34830656]\n",
      " [0.         0.         0.         0.        ]\n",
      " [0.40262179 0.1802377  0.22581883 0.11278046]\n",
      " [0.         0.         0.         0.        ]\n",
      " [0.25048959 0.45933758 0.3038326  0.62077153]\n",
      " [0.40883971 0.68120523 0.40562223 0.45900094]\n",
      " [0.71110283 0.4057396  0.29478945 0.33537525]\n",
      " [0.         0.         0.         0.        ]\n",
      " [0.         0.         0.         0.        ]\n",
      " [0.30673606 0.52107136 0.76806761 0.54633962]\n",
      " [0.7761289  0.88425406 0.7833303  0.77838338]\n",
      " [0.         0.         0.         0.        ]]\n"
     ]
    }
   ],
   "source": [
    "rewards_all_episodes = []\n",
    "\n",
    "for episode in range(num_episodes):\n",
    "    state,_ = env.reset()\n",
    "\n",
    "    done = False\n",
    "\n",
    "    rewards_current_episode =0\n",
    "\n",
    "    for step in range(max_steps_per_episode):\n",
    "\n",
    "        exploration_rate_threshold = random.uniform(0,1)\n",
    "        if exploration_rate_threshold > exploration_rate:\n",
    "            action = np.argmax(q_table[state,:])\n",
    "\n",
    "        else :\n",
    "            action = env.action_space.sample()\n",
    "\n",
    "        new_state, reward, done , truncated,info = env.step(action)\n",
    "\n",
    "\n",
    "    # update q value\n",
    "       # print(state[0])\n",
    "\n",
    "        q_table[state,action] = (1-learning_rate)*q_table[state,action]+ learning_rate*(reward + discount_rate*np.max(q_table[new_state,:]))\n",
    "\n",
    "        state = new_state\n",
    "        rewards_current_episode += reward\n",
    "\n",
    "        if done == True:\n",
    "            break \n",
    "\n",
    "\n",
    "    exploration_rate = min_exploration_rate + (max_exploration_rate- min_exploration_rate)*np.exp(-exploration_decay_rate*episode)\n",
    "\n",
    "    rewards_all_episodes.append(rewards_current_episode)\n",
    "\n",
    "\n",
    "\n",
    "rewards_per_thousand_episodes = np.split(np.array(rewards_all_episodes), num_episodes/1000)\n",
    "\n",
    "count =1000\n",
    "\n",
    "print(\"******Average reward per thousand episodes ***************\\n\")\n",
    "\n",
    "for r in rewards_per_thousand_episodes:\n",
    "    print(count, \": \", str(sum(r/1000)))\n",
    "    count += 1000\n",
    "\n",
    "\n",
    "\n",
    "print(\"\\n\\n *********Q-table************\\n\")\n",
    "\n",
    "print(q_table)\n"
   ]
  },
  {
   "cell_type": "code",
   "execution_count": 46,
   "metadata": {},
   "outputs": [
    {
     "name": "stdout",
     "output_type": "stream",
     "text": [
      "****************You reached the goal!************\n"
     ]
    }
   ],
   "source": [
    "for episode in range(3):\n",
    "    state,_  = env.reset()\n",
    "    done = False\n",
    "\n",
    "    print(\"***************** Episode\", episode +1 , \"**************\\n\\n\\n\\n\")\n",
    "\n",
    "    time.sleep(1)\n",
    "\n",
    "    for step in range(max_steps_per_episode):\n",
    "        clear_output(wait=True)\n",
    "        env.render()\n",
    "        time.sleep(0.3)\n",
    "\n",
    "        action = np.argmax(q_table[state,:])\n",
    "        new_state, reward, done, truncation, info = env.step(action)\n",
    "\n",
    "        if done : \n",
    "            clear_output(wait=True)\n",
    "\n",
    "            env.render()\n",
    "\n",
    "            if reward == 1:\n",
    "                print(\"****************You reached the goal!************\")\n",
    "                time.sleep(3)\n",
    "\n",
    "            else:\n",
    "                print(\"**************You fell through a hole!************\")\n",
    "\n",
    "                time.sleep(3)\n",
    "\n",
    "            clear_output(wait=True)\n",
    "\n",
    "            break\n",
    "        state = new_state\n",
    "\n",
    "env.close()"
   ]
  },
  {
   "cell_type": "code",
   "execution_count": null,
   "metadata": {},
   "outputs": [],
   "source": []
  }
 ],
 "metadata": {
  "kernelspec": {
   "display_name": "Python 3 (ipykernel)",
   "language": "python",
   "name": "python3"
  },
  "language_info": {
   "codemirror_mode": {
    "name": "ipython",
    "version": 3
   },
   "file_extension": ".py",
   "mimetype": "text/x-python",
   "name": "python",
   "nbconvert_exporter": "python",
   "pygments_lexer": "ipython3",
   "version": "3.10.6"
  },
  "orig_nbformat": 4
 },
 "nbformat": 4,
 "nbformat_minor": 2
}
