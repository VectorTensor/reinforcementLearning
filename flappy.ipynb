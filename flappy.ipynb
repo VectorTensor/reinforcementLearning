{
 "cells": [
  {
   "cell_type": "code",
   "execution_count": 1,
   "metadata": {},
   "outputs": [
    {
     "name": "stdout",
     "output_type": "stream",
     "text": [
      "pygame 2.4.0 (SDL 2.26.4, Python 3.11.2)\n",
      "Hello from the pygame community. https://www.pygame.org/contribute.html\n"
     ]
    }
   ],
   "source": [
    "from pygame.image import load \n",
    "from pygame.surfarray import pixels_alpha\n",
    "from pygame.transform import rotate"
   ]
  },
  {
   "cell_type": "code",
   "execution_count": 2,
   "metadata": {},
   "outputs": [],
   "source": [
    "def load_images(sprites_path):\n",
    "    base_image = load(sprites_path + 'base.png').convert_alpha()\n",
    "    background_image = load(sprites_path + 'background-black.png').convert()\n",
    "    pipe_images = [rotate(load(sprites_path + 'pipe-green.png').convert_alpha(), 180),load(sprites_path+'pipe-green.png').convert_alpha()]\n",
    "    bird_images = [load(sprites_path + 'redbird-upflap.png').convert_alpha(),\n",
    "                   load(sprites_path +\n",
    "                        'redbird-midflap.png').convert_alpha(),\n",
    "                    load(sprites_path + 'redbird-downflap.png').convert_alpha()]\n",
    "    bird_hitmask = [pixels_alpha(image).astype(bool) for image in bird_images]\n",
    "    pipe_hitmask = [pixels_alpha(image).astype(bool) for image in pipe_images]\n",
    "\n",
    "    return base_image, background_image, pipe_images, bird_images, bird_hitmask, pipe_hitmask"
   ]
  },
  {
   "cell_type": "code",
   "execution_count": 3,
   "metadata": {},
   "outputs": [],
   "source": [
    "from itertools import cycle\n",
    "from random import randint\n",
    "import pygame"
   ]
  },
  {
   "cell_type": "code",
   "execution_count": 4,
   "metadata": {},
   "outputs": [],
   "source": [
    "pygame.init()\n",
    "\n",
    "fps_clock = pygame.time.Clock()\n",
    "fps = 30"
   ]
  },
  {
   "cell_type": "code",
   "execution_count": 5,
   "metadata": {},
   "outputs": [],
   "source": [
    "screen_width = 288\n",
    "screen_height = 512\n",
    "screen = pygame.display.set_mode((screen_width, screen_height))\n",
    "pygame.display.set_caption('Flappy Bird')\n"
   ]
  },
  {
   "cell_type": "code",
   "execution_count": 6,
   "metadata": {},
   "outputs": [
    {
     "name": "stderr",
     "output_type": "stream",
     "text": [
      "libpng warning: iCCP: known incorrect sRGB profile\n",
      "libpng warning: iCCP: known incorrect sRGB profile\n",
      "libpng warning: iCCP: known incorrect sRGB profile\n",
      "libpng warning: iCCP: known incorrect sRGB profile\n",
      "libpng warning: iCCP: known incorrect sRGB profile\n"
     ]
    }
   ],
   "source": [
    "base_image, background_image, pipe_images, bird_images, bird_hitmask, pipe_hitmask = load_images('sprites/')\n"
   ]
  },
  {
   "cell_type": "code",
   "execution_count": 7,
   "metadata": {},
   "outputs": [],
   "source": [
    "bird_width = bird_images[0].get_width()\n",
    "bird_height = bird_images[0].get_height()\n",
    "pipe_width = pipe_images[0].get_width()\n",
    "pipe_height = pipe_images[0].get_height()\n",
    "pipe_gap_size = 100"
   ]
  },
  {
   "cell_type": "code",
   "execution_count": 8,
   "metadata": {},
   "outputs": [],
   "source": [
    "bird_index_gen = cycle([0,1,2,1])\n",
    "\n"
   ]
  },
  {
   "cell_type": "code",
   "execution_count": 9,
   "metadata": {},
   "outputs": [
    {
     "ename": "",
     "evalue": "",
     "output_type": "error",
     "traceback": [
      "\u001b[1;31mThe Kernel crashed while executing code in the the current cell or a previous cell. Please review the code in the cell(s) to identify a possible cause of the failure. Click <a href='https://aka.ms/vscodeJupyterKernelCrash'>here</a> for more info. View Jupyter <a href='command:jupyter.viewOutput'>log</a> for further details."
     ]
    }
   ],
   "source": [
    "class FlappyBird(object):\n",
    "    def __init__(self):\n",
    "        self.pipe_vel_x = -4\n",
    "        self.min_velocity_y = -8\n",
    "        self.max_velocity_y = 10\n",
    "        self.downward_speed = 1\n",
    "        self.upward_speed = -9\n",
    "        self.cur_velocity_y = 0\n",
    "        self.iter = self.bird_index = self.score = 0 \n",
    "        self.bird_x = int (screen_width / 5)\n",
    "        self.bird_y = int ((screen_height - bird_height)/2)\n",
    "        self.base_shift = base_image.get_width() - background_image.get_width()\n",
    "        self.pipes = [self.gen_random_pipe(screen_width), self.gen_random_pipe(screen_width * 1.5)]\n",
    "        self.is_flapped = False\n",
    "\n",
    "    def check_collision(self):\n",
    "        if bird_height + self.bird_y >= self.base_y -1 :\n",
    "            return True\n",
    "        \n",
    "        bird_rect = pygame.Rect(self.bird_x, self.bird_y, bird_width , bird_height)\n",
    "\n",
    "        for pipe in self.pipes:\n",
    "            pipe_boxes = [pygame.Rect(pipe[\"x_upper\"],\n",
    "                                     pipe[\"y_upper\"], pipe_width,  \n",
    "                                     pipe_height ), pygame.Rect(pipe[\"x_lower\"], \n",
    "                                     pipe[\"y_lower\"], pipe_width, pipe_height )]\n",
    "\n",
    "            \n",
    "            if bird_rect.collidelist(pipe_boxes) == 1:\n",
    "                return False\n",
    "            \n",
    "            for i in range(2):\n",
    "                cropped_bbox = bird_rect.clip(pipe_boxes[i])\n",
    "                x1 = cropped_bbox.x - bird_rect.x\n",
    "                y1 = cropped_bbox.y - bird_rect.y\n",
    "                x2 = cropped_bbox.x - pipe_boxes[i].x\n",
    "                y2 = cropped_bbox.y - pipe_boxes[i].y\n",
    "\n",
    "                for x in range(cropped_bbox.width):\n",
    "                    for y in range(cropped_bbox.height):\n",
    "                        if bird_hitmask[self.bird_index][x1 + x, y1+ y] and pipe_hitmask[i][x2+x, y2+y]:\n",
    "                            return True\n",
    "        \n",
    "\n",
    "        return False\n",
    "\n",
    "\n",
    "    def next_step(self, action):\n",
    "        pygame.event.pump()\n",
    "\n",
    "        reward = 0.1\n",
    "\n",
    "        if action == 1:\n",
    "            self.cur_velocity_y = self.upward_speed\n",
    "            self.is_flapped = True\n",
    "\n",
    "        bird_center_x = self.bird_x + bird_width / 2\n",
    "\n",
    "        for pipe in self.pipes:\n",
    "            pipe_center_x = pipe[\"x_upper\"] + pipe_width/2\n",
    "\n",
    "            if pipe_center_x < bird_center_x < pipe_center_x + 5:\n",
    "\n",
    "                self.score += 1 \n",
    "                reward = 1\n",
    "                break\n",
    "\n",
    "        \n",
    "        if (self.iter + 1) % 3 ==0 :\n",
    "            self.bird_index = next(bird_index_gen)\n",
    "\n",
    "        self.iter = (self.iter + 1) % fps\n",
    "\n",
    "        self.base_x = -((-self.base_x + 100) % self.base_shift)\n",
    "\n",
    "\n",
    "        if self.curr_velocity_y < self.max_velocity_y and not self.is_flapped:\n",
    "\n",
    "            self.curr_velocity_y += self.downward_speed\n",
    "\n",
    "        self.is_flapped = False\n",
    "\n",
    "        self.bird_y += min(self.cur_velocity_y,\n",
    "                           self.bird_y - self.cur_velocity_y - bird_height)\n",
    "\n",
    "        if self.bird_y < 0:\n",
    "            self.bird_y = 0 \n",
    "\n",
    "\n",
    "        for pipe in self.pipes:\n",
    "            pipe[\"x_upper\"] += self.pipe_vel_x\n",
    "            pipe[\"x_lower\"] += self.pipe_vel_x\n",
    "\n",
    "        if 0 < self.pipes[0][\"x_lower\"] < 5:\n",
    "            self.pipes.append(self.gen_random_pipe(\n",
    "                screen_width + 10\n",
    "            ))\n",
    "\n",
    "        if self.pipes[0][\"x_lower\"] < -pipe_width:\n",
    "            self.pipes.pop(0)\n",
    "\n",
    "        if self.check_collision():\n",
    "            is_done = True\n",
    "            reward = -1\n",
    "            self.__init__()\n",
    "        else:\n",
    "            is_done = False\n",
    "            \n",
    "\n",
    "        screen.blit(background_image, (0,0))\n",
    "        screen.blit(base_image, (self.base_x, self.base_y))\n",
    "        screen.blit(bird_images[self.bird_index], \n",
    "                    (self.bird_x , self.bird_y))\n",
    "\n",
    "        for pipe in self.pipes:\n",
    "            screen.blit(pipe_images[0], \n",
    "                        (pipe[\"x_upper\"], pipe[\"y_upper\"]))\n",
    "            screen.blit(pipe_images[1],\n",
    "                        (pipe[\"x_lower\"], pipe[\"y_lower\"]))\n",
    "\n",
    "        image = pygame.surfarray.array3d(\n",
    "            pygame.display.get_surface()\n",
    "        )\n",
    "\n",
    "        pygame.display.update()\n",
    "        fps_clock.tick(fps)\n",
    "        return image, reward , is_done\n",
    "\n"
   ]
  },
  {
   "cell_type": "code",
   "execution_count": 1,
   "metadata": {},
   "outputs": [],
   "source": [
    "import torch \n",
    "import torch.nn as nn\n",
    "import torch.nn.functional as F\n",
    "import numpy as np\n",
    "import random"
   ]
  },
  {
   "cell_type": "code",
   "execution_count": 3,
   "metadata": {},
   "outputs": [],
   "source": [
    "class DQNModel(nn.Module):\n",
    "    def  __init__(self,n_action = 2):\n",
    "        super(DQNModel, self).__init__()\n",
    "        self.conv1 = nn.Conv2d(4,32, kernel_size=8, stride = 4)\n",
    "        self.conv2 = nn.Conv2d(32,64, 4, stride = 2)\n",
    "        self.conv3 = nn.Conv2d(64,64,3, stride=1)\n",
    "        self.fc = nn.Linear(7*7*64, 512)\n",
    "        self.out = nn.Linear(512, n_action)\n",
    "        self._create_weights()\n",
    "\n",
    "\n",
    "    def _create_weights(self):\n",
    "        for m in self.modules():\n",
    "            if isinstance(m, nn.Conv2d) or isinstance(m, nn.Linear):\n",
    "                nn.init.uniform(m.weight, -0.01, 0.01)\n",
    "                nn.init.constant_(m.bias, 0 )\n",
    "\n",
    "\n",
    "    def forward(self,x):\n",
    "        x= F.relu(self.conv1(x))\n",
    "        x= F.relu(self.conv2(x))\n",
    "        x= F.relu(self.conv3(x))\n",
    "        x= F.view(x.size(0), -1)\n",
    "        x= F.relu(self.fc(x))\n",
    "        output = self.out(x)\n",
    "        return output"
   ]
  },
  {
   "cell_type": "code",
   "execution_count": null,
   "metadata": {},
   "outputs": [],
   "source": []
  }
 ],
 "metadata": {
  "kernelspec": {
   "display_name": "Python 3",
   "language": "python",
   "name": "python3"
  },
  "language_info": {
   "codemirror_mode": {
    "name": "ipython",
    "version": 3
   },
   "file_extension": ".py",
   "mimetype": "text/x-python",
   "name": "python",
   "nbconvert_exporter": "python",
   "pygments_lexer": "ipython3",
   "version": "3.11.2"
  },
  "orig_nbformat": 4
 },
 "nbformat": 4,
 "nbformat_minor": 2
}
