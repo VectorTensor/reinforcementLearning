{
 "cells": [
  {
   "cell_type": "code",
   "execution_count": 1,
   "metadata": {},
   "outputs": [],
   "source": [
    "import torch\n",
    "import torch.nn.functional as F"
   ]
  },
  {
   "cell_type": "code",
   "execution_count": 2,
   "metadata": {},
   "outputs": [
    {
     "name": "stdout",
     "output_type": "stream",
     "text": [
      "5\n",
      "4\n",
      "3\n",
      "2\n",
      "1\n",
      "0\n"
     ]
    }
   ],
   "source": [
    "for i in range(5,-1,-1):\n",
    "    print (i)"
   ]
  },
  {
   "cell_type": "code",
   "execution_count": 3,
   "metadata": {},
   "outputs": [
    {
     "data": {
      "text/plain": [
       "[4, 23, 2, 1]"
      ]
     },
     "execution_count": 3,
     "metadata": {},
     "output_type": "execute_result"
    }
   ],
   "source": [
    "x=[1,2,23,4]\n",
    "x[::-1]"
   ]
  },
  {
   "cell_type": "code",
   "execution_count": 4,
   "metadata": {},
   "outputs": [],
   "source": [
    "x= torch.tensor([1.0,2,3,4])\n",
    "y = torch.tensor([5,6.7,10,4])"
   ]
  },
  {
   "cell_type": "code",
   "execution_count": 5,
   "metadata": {},
   "outputs": [],
   "source": [
    "x=torch.stack([x,y])"
   ]
  },
  {
   "cell_type": "code",
   "execution_count": 6,
   "metadata": {},
   "outputs": [
    {
     "ename": "ValueError",
     "evalue": "step must be greater than zero",
     "output_type": "error",
     "traceback": [
      "\u001b[0;31m---------------------------------------------------------------------------\u001b[0m",
      "\u001b[0;31mValueError\u001b[0m                                Traceback (most recent call last)",
      "Cell \u001b[0;32mIn[6], line 1\u001b[0m\n\u001b[0;32m----> 1\u001b[0m x[::\u001b[39m-\u001b[39;49m\u001b[39m1\u001b[39;49m]\n",
      "\u001b[0;31mValueError\u001b[0m: step must be greater than zero"
     ]
    }
   ],
   "source": [
    "x[::-1]"
   ]
  },
  {
   "cell_type": "code",
   "execution_count": null,
   "metadata": {},
   "outputs": [],
   "source": [
    "x= torch.tensor([0.8,0.2,6,6,7])"
   ]
  },
  {
   "cell_type": "code",
   "execution_count": null,
   "metadata": {},
   "outputs": [],
   "source": [
    "x= [1,54,743,23,6]"
   ]
  },
  {
   "cell_type": "code",
   "execution_count": null,
   "metadata": {},
   "outputs": [
    {
     "data": {
      "text/plain": [
       "[6, 23, 743, 54, 1]"
      ]
     },
     "execution_count": 16,
     "metadata": {},
     "output_type": "execute_result"
    }
   ],
   "source": [
    "x[::-1]"
   ]
  },
  {
   "cell_type": "code",
   "execution_count": null,
   "metadata": {},
   "outputs": [],
   "source": []
  },
  {
   "cell_type": "code",
   "execution_count": null,
   "metadata": {},
   "outputs": [],
   "source": [
    "\n",
    "dis = torch.distributions.Normal\n",
    "mu =torch.tensor([1.0])\n",
    "sigma =torch.tensor([0.5])"
   ]
  },
  {
   "cell_type": "code",
   "execution_count": null,
   "metadata": {},
   "outputs": [],
   "source": [
    "x= dis(mu,sigma)"
   ]
  },
  {
   "cell_type": "code",
   "execution_count": null,
   "metadata": {},
   "outputs": [],
   "source": [
    "action = x.sample().numpy()\n"
   ]
  },
  {
   "cell_type": "code",
   "execution_count": null,
   "metadata": {},
   "outputs": [
    {
     "data": {
      "text/plain": [
       "array([-0.81493914], dtype=float32)"
      ]
     },
     "execution_count": 35,
     "metadata": {},
     "output_type": "execute_result"
    }
   ],
   "source": [
    "action"
   ]
  },
  {
   "cell_type": "code",
   "execution_count": null,
   "metadata": {},
   "outputs": [
    {
     "data": {
      "text/plain": [
       "tensor([-6.8138])"
      ]
     },
     "execution_count": 40,
     "metadata": {},
     "output_type": "execute_result"
    }
   ],
   "source": [
    "x.log_prob(torch.tensor(action[0]))"
   ]
  },
  {
   "cell_type": "code",
   "execution_count": null,
   "metadata": {},
   "outputs": [
    {
     "data": {
      "text/plain": [
       "tensor([30000.])"
      ]
     },
     "execution_count": 21,
     "metadata": {},
     "output_type": "execute_result"
    }
   ],
   "source": [
    "x= torch.tensor([30000.0])\n",
    "F.softplus(x) + 1e-5"
   ]
  },
  {
   "cell_type": "code",
   "execution_count": null,
   "metadata": {},
   "outputs": [
    {
     "data": {
      "text/plain": [
       "tensor([1.0000, 0.6000, 0.4000])"
      ]
     },
     "execution_count": 51,
     "metadata": {},
     "output_type": "execute_result"
    }
   ],
   "source": [
    "2* sigma"
   ]
  },
  {
   "cell_type": "code",
   "execution_count": null,
   "metadata": {},
   "outputs": [
    {
     "data": {
      "text/plain": [
       "tensor([ 5,  5,  5, 20, 20])"
      ]
     },
     "execution_count": 41,
     "metadata": {},
     "output_type": "execute_result"
    }
   ],
   "source": [
    "test = torch.tensor([1,2,4,5123,42])\n",
    "test.clip(5,20)"
   ]
  },
  {
   "cell_type": "code",
   "execution_count": null,
   "metadata": {},
   "outputs": [],
   "source": [
    "x= (1,2,3,4,5)\n",
    "z= tuple(y for y in x)"
   ]
  },
  {
   "cell_type": "code",
   "execution_count": null,
   "metadata": {},
   "outputs": [
    {
     "data": {
      "text/plain": [
       "(1, 2, 3, 4, 5)"
      ]
     },
     "execution_count": 15,
     "metadata": {},
     "output_type": "execute_result"
    }
   ],
   "source": [
    "z"
   ]
  },
  {
   "cell_type": "code",
   "execution_count": null,
   "metadata": {},
   "outputs": [
    {
     "data": {
      "text/plain": [
       "tensor([[-0.1832, -0.1813, -0.0476,  0.0797,  1.3391,  0.2560],\n",
       "        [-1.8001,  0.3854,  0.5159, -0.8428,  0.1764, -0.7098],\n",
       "        [-0.6174,  0.0101, -0.0817,  0.2463, -0.1874,  1.2345],\n",
       "        [ 0.7534,  0.2573,  0.9307,  0.4757, -0.6788,  0.6412],\n",
       "        [-0.3301, -0.9960, -0.2734, -0.6728,  1.5178, -0.1348],\n",
       "        [ 0.1018, -0.9592, -0.1091, -0.5711,  0.0531,  0.0680],\n",
       "        [ 2.1983,  0.5289, -0.1066,  1.4322, -0.2641, -1.0359],\n",
       "        [-0.4066, -0.0171,  0.4342, -1.4305, -0.2068,  0.3597],\n",
       "        [ 0.5096,  0.9581,  0.5659,  0.7622, -1.9731, -0.7328],\n",
       "        [ 0.2146, -2.0168, -0.3399, -0.6659, -1.1006,  0.9398],\n",
       "        [ 0.5626,  0.1286,  0.8512,  0.0407, -1.6550, -1.1355],\n",
       "        [-0.0565,  0.8611,  0.8058, -0.9111,  0.9983,  0.6598],\n",
       "        [-0.1757,  0.0637,  0.9414,  0.0343,  0.1264, -0.5756],\n",
       "        [ 1.3571,  1.5116,  1.1532, -0.6112,  0.7894,  1.0937],\n",
       "        [-0.4694, -1.2225,  0.0197,  0.6557, -1.9093, -0.2654]])"
      ]
     },
     "execution_count": 12,
     "metadata": {},
     "output_type": "execute_result"
    }
   ],
   "source": [
    "x= torch.randn(3,5,6)\n",
    "z= tuple(y for y in x)\n",
    "torch.cat(z)"
   ]
  },
  {
   "cell_type": "code",
   "execution_count": null,
   "metadata": {},
   "outputs": [
    {
     "data": {
      "text/plain": [
       "(tensor([[-0.1832, -0.1813, -0.0476,  0.0797,  1.3391,  0.2560],\n",
       "         [-1.8001,  0.3854,  0.5159, -0.8428,  0.1764, -0.7098],\n",
       "         [-0.6174,  0.0101, -0.0817,  0.2463, -0.1874,  1.2345],\n",
       "         [ 0.7534,  0.2573,  0.9307,  0.4757, -0.6788,  0.6412],\n",
       "         [-0.3301, -0.9960, -0.2734, -0.6728,  1.5178, -0.1348]]),\n",
       " tensor([[ 0.1018, -0.9592, -0.1091, -0.5711,  0.0531,  0.0680],\n",
       "         [ 2.1983,  0.5289, -0.1066,  1.4322, -0.2641, -1.0359],\n",
       "         [-0.4066, -0.0171,  0.4342, -1.4305, -0.2068,  0.3597],\n",
       "         [ 0.5096,  0.9581,  0.5659,  0.7622, -1.9731, -0.7328],\n",
       "         [ 0.2146, -2.0168, -0.3399, -0.6659, -1.1006,  0.9398]]),\n",
       " tensor([[ 0.5626,  0.1286,  0.8512,  0.0407, -1.6550, -1.1355],\n",
       "         [-0.0565,  0.8611,  0.8058, -0.9111,  0.9983,  0.6598],\n",
       "         [-0.1757,  0.0637,  0.9414,  0.0343,  0.1264, -0.5756],\n",
       "         [ 1.3571,  1.5116,  1.1532, -0.6112,  0.7894,  1.0937],\n",
       "         [-0.4694, -1.2225,  0.0197,  0.6557, -1.9093, -0.2654]]))"
      ]
     },
     "execution_count": 13,
     "metadata": {},
     "output_type": "execute_result"
    }
   ],
   "source": [
    "z"
   ]
  },
  {
   "cell_type": "code",
   "execution_count": 12,
   "metadata": {},
   "outputs": [],
   "source": [
    "import numpy as np\n",
    "a=np.random.random([2,3])\n"
   ]
  },
  {
   "cell_type": "code",
   "execution_count": 13,
   "metadata": {},
   "outputs": [
    {
     "data": {
      "text/plain": [
       "array([[[0.75753922, 0.57552857, 0.40793229]],\n",
       "\n",
       "       [[0.58907009, 0.35515916, 0.84506188]]])"
      ]
     },
     "execution_count": 13,
     "metadata": {},
     "output_type": "execute_result"
    }
   ],
   "source": [
    "a[:,None] "
   ]
  },
  {
   "cell_type": "code",
   "execution_count": null,
   "metadata": {},
   "outputs": [],
   "source": []
  }
 ],
 "metadata": {
  "kernelspec": {
   "display_name": "Python 3",
   "language": "python",
   "name": "python3"
  },
  "language_info": {
   "codemirror_mode": {
    "name": "ipython",
    "version": 3
   },
   "file_extension": ".py",
   "mimetype": "text/x-python",
   "name": "python",
   "nbconvert_exporter": "python",
   "pygments_lexer": "ipython3",
   "version": "3.11.2"
  },
  "orig_nbformat": 4,
  "vscode": {
   "interpreter": {
    "hash": "916dbcbb3f70747c44a77c7bcd40155683ae19c65e1c03b4aa3499c5328201f1"
   }
  }
 },
 "nbformat": 4,
 "nbformat_minor": 2
}
